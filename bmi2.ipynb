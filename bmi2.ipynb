{
 "cells": [
  {
   "cell_type": "code",
   "execution_count": 3,
   "metadata": {},
   "outputs": [],
   "source": [
    "import pandas as pd\n",
    "import numpy as np\n",
    "from sklearn.model_selection import train_test_split\n",
    "from sklearn.preprocessing import StandardScaler, LabelEncoder\n",
    "from sklearn.tree import DecisionTreeClassifier\n",
    "from sklearn.metrics import classification_report,accuracy_score\n",
    "import pickle"
   ]
  },
  {
   "cell_type": "markdown",
   "metadata": {},
   "source": [
    "Load Dataset"
   ]
  },
  {
   "cell_type": "code",
   "execution_count": 6,
   "metadata": {},
   "outputs": [
    {
     "name": "stdout",
     "output_type": "stream",
     "text": [
      "<class 'pandas.core.frame.DataFrame'>\n",
      "RangeIndex: 1724 entries, 0 to 1723\n",
      "Data columns (total 41 columns):\n",
      " #   Column            Non-Null Count  Dtype  \n",
      "---  ------            --------------  -----  \n",
      " 0   ID                1724 non-null   int64  \n",
      " 1   FoodGroup         1724 non-null   object \n",
      " 2   Descrip           1724 non-null   object \n",
      " 3   Energy_kcal       1724 non-null   float64\n",
      " 4   Protein_g         1724 non-null   float64\n",
      " 5   Fat_g             1724 non-null   float64\n",
      " 6   Carb_g            1724 non-null   float64\n",
      " 7   Sugar_g           1724 non-null   float64\n",
      " 8   Fiber_g           1724 non-null   float64\n",
      " 9   VitA_mcg          1724 non-null   float64\n",
      " 10  VitB6_mg          1724 non-null   float64\n",
      " 11  VitB12_mcg        1724 non-null   float64\n",
      " 12  VitC_mg           1724 non-null   float64\n",
      " 13  VitE_mg           1724 non-null   float64\n",
      " 14  Folate_mcg        1724 non-null   float64\n",
      " 15  Niacin_mg         1724 non-null   float64\n",
      " 16  Riboflavin_mg     1724 non-null   float64\n",
      " 17  Thiamin_mg        1724 non-null   float64\n",
      " 18  Calcium_mg        1724 non-null   float64\n",
      " 19  Copper_mcg        1724 non-null   float64\n",
      " 20  Iron_mg           1724 non-null   float64\n",
      " 21  Magnesium_mg      1724 non-null   float64\n",
      " 22  Manganese_mg      1724 non-null   float64\n",
      " 23  Phosphorus_mg     1724 non-null   float64\n",
      " 24  Selenium_mcg      1724 non-null   float64\n",
      " 25  Zinc_mg           1724 non-null   float64\n",
      " 26  VitA_USRDA        1724 non-null   float64\n",
      " 27  VitB6_USRDA       1724 non-null   float64\n",
      " 28  VitB12_USRDA      1724 non-null   float64\n",
      " 29  VitC_USRDA        1724 non-null   float64\n",
      " 30  VitE_USRDA        1724 non-null   float64\n",
      " 31  Folate_USRDA      1724 non-null   float64\n",
      " 32  Niacin_USRDA      1724 non-null   float64\n",
      " 33  Riboflavin_USRDA  1724 non-null   float64\n",
      " 34  Thiamin_USRDA     1724 non-null   float64\n",
      " 35  Calcium_USRDA     1724 non-null   float64\n",
      " 36  Copper_USRDA      1724 non-null   float64\n",
      " 37  Magnesium_USRDA   1724 non-null   float64\n",
      " 38  Phosphorus_USRDA  1724 non-null   float64\n",
      " 39  Selenium_USRDA    1724 non-null   float64\n",
      " 40  Zinc_USRDA        1724 non-null   float64\n",
      "dtypes: float64(38), int64(1), object(2)\n",
      "memory usage: 552.3+ KB\n",
      "None\n"
     ]
    }
   ],
   "source": [
    "old_dataset = pd.read_csv('test.csv')\n",
    "print(old_dataset.info())"
   ]
  },
  {
   "cell_type": "code",
   "execution_count": 7,
   "metadata": {},
   "outputs": [
    {
     "name": "stdout",
     "output_type": "stream",
     "text": [
      "<class 'pandas.core.frame.DataFrame'>\n",
      "RangeIndex: 7058 entries, 0 to 7057\n",
      "Data columns (total 16 columns):\n",
      " #   Column        Non-Null Count  Dtype  \n",
      "---  ------        --------------  -----  \n",
      " 0   ID            7058 non-null   int64  \n",
      " 1   Description   7058 non-null   object \n",
      " 2   Calories      7057 non-null   float64\n",
      " 3   Protein       7057 non-null   float64\n",
      " 4   TotalFat      7057 non-null   float64\n",
      " 5   Carbohydrate  7057 non-null   float64\n",
      " 6   Sodium        6974 non-null   float64\n",
      " 7   SaturatedFat  6757 non-null   float64\n",
      " 8   Cholesterol   6770 non-null   float64\n",
      " 9   Sugar         5148 non-null   float64\n",
      " 10  Calcium       6922 non-null   float64\n",
      " 11  Iron          6935 non-null   float64\n",
      " 12  Potassium     6649 non-null   float64\n",
      " 13  VitaminC      6726 non-null   float64\n",
      " 14  VitaminE      4338 non-null   float64\n",
      " 15  VitaminD      4224 non-null   float64\n",
      "dtypes: float64(14), int64(1), object(1)\n",
      "memory usage: 882.4+ KB\n",
      "None\n"
     ]
    }
   ],
   "source": [
    "new_dataset = pd.read_csv('test2.csv')\n",
    "print(new_dataset.info())"
   ]
  },
  {
   "cell_type": "markdown",
   "metadata": {},
   "source": [
    "Normalisasi Nama Kolom"
   ]
  },
  {
   "cell_type": "code",
   "execution_count": 9,
   "metadata": {},
   "outputs": [],
   "source": [
    "new_dataset.rename(columns={\n",
    "    'Calories': 'Energy_kcal',\n",
    "    'TotalFat': 'Fat_g',\n",
    "    'Carbohydrate': 'Carb_g',\n",
    "    'VitaminC': 'VitC_mg',\n",
    "    'VitaminE': 'VitE_mg',\n",
    "    'Sugar': 'Sugar_g',\n",
    "    'Calcium': 'Calcium_mg',\n",
    "    'Iron': 'Iron_mg'\n",
    "}, inplace=True)"
   ]
  },
  {
   "cell_type": "code",
   "execution_count": 11,
   "metadata": {},
   "outputs": [],
   "source": [
    "# Penambahan kolom yang tidak ada pada daaset baru\n",
    "missing_cols = set(old_dataset.columns) - set(new_dataset.columns)\n",
    "for col in missing_cols:\n",
    "    new_dataset[col] = np.nan"
   ]
  },
  {
   "cell_type": "code",
   "execution_count": 12,
   "metadata": {},
   "outputs": [],
   "source": [
    "# menangani nul value\n",
    "numeric_cols = new_dataset.select_dtypes(include=['float64']).columns\n",
    "new_dataset[numeric_cols] = new_dataset[numeric_cols].fillna(new_dataset[numeric_cols].mean())"
   ]
  },
  {
   "cell_type": "markdown",
   "metadata": {},
   "source": [
    "Penggabungan dataset"
   ]
  },
  {
   "cell_type": "code",
   "execution_count": 14,
   "metadata": {},
   "outputs": [],
   "source": [
    "combined_dataset = pd.concat([old_dataset, new_dataset], ignore_index=True)"
   ]
  },
  {
   "cell_type": "code",
   "execution_count": 36,
   "metadata": {},
   "outputs": [
    {
     "name": "stdout",
     "output_type": "stream",
     "text": [
      "(8782, 50)\n"
     ]
    }
   ],
   "source": [
    "print(combined_dataset.shape)"
   ]
  },
  {
   "cell_type": "markdown",
   "metadata": {},
   "source": [
    "Simpan Penggabungan dataset"
   ]
  },
  {
   "cell_type": "code",
   "execution_count": 37,
   "metadata": {},
   "outputs": [
    {
     "name": "stdout",
     "output_type": "stream",
     "text": [
      "Dataset gabungan berhasil disimpan ke file 'combined_nutrition_dataset.csv'\n"
     ]
    }
   ],
   "source": [
    "output_file = \"combined_nutrition_dataset.csv\"\n",
    "combined_dataset.to_csv(output_file, index=False)\n",
    "\n",
    "print(f\"Dataset gabungan berhasil disimpan ke file '{output_file}'\")\n"
   ]
  },
  {
   "cell_type": "markdown",
   "metadata": {},
   "source": [
    "Normalisasi Skala"
   ]
  },
  {
   "cell_type": "code",
   "execution_count": 15,
   "metadata": {},
   "outputs": [],
   "source": [
    "scaler = StandardScaler()\n",
    "numeric_cols = ['Energy_kcal', 'Protein_g', 'Fat_g', 'Carb_g', 'Sugar_g', \n",
    "                'Calcium_mg', 'Iron_mg', 'VitC_mg', 'VitE_mg']\n",
    "combined_dataset[numeric_cols] = scaler.fit_transform(combined_dataset[numeric_cols])"
   ]
  },
  {
   "cell_type": "markdown",
   "metadata": {},
   "source": [
    "Encode Label"
   ]
  },
  {
   "cell_type": "code",
   "execution_count": 16,
   "metadata": {},
   "outputs": [],
   "source": [
    "label_encoder = LabelEncoder()\n",
    "combined_dataset['FoodGroup_Encoded'] = label_encoder.fit_transform(combined_dataset['FoodGroup'])"
   ]
  },
  {
   "cell_type": "markdown",
   "metadata": {},
   "source": [
    "Split Dataset"
   ]
  },
  {
   "cell_type": "code",
   "execution_count": 20,
   "metadata": {},
   "outputs": [],
   "source": [
    "X = combined_dataset[['Energy_kcal', 'Protein_g', 'Fat_g', 'Carb_g', 'Sugar_g', \n",
    "                      'Calcium_mg', 'Iron_mg', 'VitC_mg', 'VitE_mg']]\n",
    "y = combined_dataset['FoodGroup_Encoded']\n",
    "X_train, X_test, y_train, y_test = train_test_split(X, y, test_size=0.2, random_state=22)"
   ]
  },
  {
   "cell_type": "markdown",
   "metadata": {},
   "source": [
    "Pembuatan Model dengan Decision Tree"
   ]
  },
  {
   "cell_type": "code",
   "execution_count": 22,
   "metadata": {},
   "outputs": [
    {
     "name": "stdout",
     "output_type": "stream",
     "text": [
      "Accuracy: 0.9117814456459875\n",
      "Classification Report:\n",
      "               precision    recall  f1-score   support\n",
      "\n",
      "           0       0.25      0.29      0.27        14\n",
      "           1       0.50      0.33      0.40         9\n",
      "           2       0.76      0.76      0.76        25\n",
      "           3       0.81      0.76      0.79        51\n",
      "           4       0.64      0.50      0.56        14\n",
      "           5       0.73      0.69      0.71        16\n",
      "           6       0.70      0.58      0.64        12\n",
      "           7       0.62      0.62      0.62        13\n",
      "           8       0.50      0.55      0.52        11\n",
      "           9       0.78      0.58      0.67        12\n",
      "          10       0.67      0.75      0.71         8\n",
      "          11       0.38      0.38      0.38         8\n",
      "          12       0.28      0.35      0.31        20\n",
      "          13       0.46      0.50      0.48        12\n",
      "          14       0.40      0.33      0.36         6\n",
      "          15       0.20      0.20      0.20         5\n",
      "          16       0.53      0.64      0.58        14\n",
      "          17       0.40      0.24      0.30        17\n",
      "          18       0.30      0.60      0.40         5\n",
      "          19       0.25      0.22      0.24         9\n",
      "          20       0.29      0.80      0.42         5\n",
      "          21       0.25      0.33      0.29         9\n",
      "          22       0.00      0.00      0.00         2\n",
      "          23       0.50      0.35      0.41        17\n",
      "          24       0.86      0.79      0.83        39\n",
      "          25       1.00      1.00      1.00      1404\n",
      "\n",
      "    accuracy                           0.91      1757\n",
      "   macro avg       0.50      0.51      0.49      1757\n",
      "weighted avg       0.92      0.91      0.91      1757\n",
      "\n"
     ]
    }
   ],
   "source": [
    "model = DecisionTreeClassifier(random_state=42)\n",
    "model.fit(X_train, y_train)\n",
    "y_pred = model.predict(X_test)\n",
    "print(\"Accuracy:\", accuracy_score(y_test, y_pred))\n",
    "print(\"Classification Report:\\n\", classification_report(y_test, y_pred))"
   ]
  },
  {
   "cell_type": "markdown",
   "metadata": {},
   "source": [
    "Eksport Model dengan pickle"
   ]
  },
  {
   "cell_type": "code",
   "execution_count": 23,
   "metadata": {},
   "outputs": [
    {
     "name": "stdout",
     "output_type": "stream",
     "text": [
      "Model berhasil disimpan ke 'food_group_model.pkl'\n"
     ]
    }
   ],
   "source": [
    "with open('food_group_model.pkl', 'wb') as f:\n",
    "    pickle.dump(model, f)\n",
    "print(\"Model berhasil disimpan ke 'food_group_model.pkl'\")"
   ]
  },
  {
   "cell_type": "markdown",
   "metadata": {},
   "source": [
    "Fungsi Tambahan"
   ]
  },
  {
   "cell_type": "code",
   "execution_count": 30,
   "metadata": {},
   "outputs": [],
   "source": [
    "def analyze_nutritional_content(food_item):\n",
    "    \"\"\"\n",
    "    Menganalisis kandungan gizi dari makanan tertentu.\n",
    "    \"\"\"\n",
    "    # Filter data berdasarkan nama makanan\n",
    "    food_data = combined_dataset[combined_dataset['Descrip'] == food_item]\n",
    "    if food_data.empty:\n",
    "        print(f\"{food_item} tidak ditemukan dalam dataset.\")\n",
    "        return\n",
    "\n",
    "    # Ekstraksi data nutrisi\n",
    "    nutrition_features = ['Protein_g', 'Fat_g', 'Carb_g']\n",
    "    vitamin_features = ['VitC_mg', 'VitE_mg']\n",
    "    mineral_features = ['Calcium_mg', 'Iron_mg']\n",
    "    \n",
    "    nutrition_info = food_data[nutrition_features].iloc[0]\n",
    "    vitamin_info = food_data[vitamin_features].iloc[0]\n",
    "    mineral_info = food_data[mineral_features].iloc[0]\n",
    "\n",
    "    # Tampilkan informasi nutrisi\n",
    "    print(f\"Analisis Nutrisi untuk: {food_item}\\n\")\n",
    "    print(\"Makronutrien:\")\n",
    "    display(nutrition_info)\n",
    "    print(\"\\nVitamin:\")\n",
    "    display(vitamin_info)\n",
    "    print(\"\\nMineral:\")\n",
    "    display(mineral_info)\n",
    "\n",
    "    # Visualisasi\n",
    "    import matplotlib.pyplot as plt\n",
    "\n",
    "    plt.figure(figsize=(15, 5))\n",
    "\n",
    "    # Plot makronutrien\n",
    "    plt.subplot(1, 3, 1)\n",
    "    nutrition_info.plot(kind='bar', color='skyblue')\n",
    "    plt.title('Makronutrien')\n",
    "    plt.xlabel('Nutrisi')\n",
    "    plt.ylabel('Jumlah (gram)')\n",
    "\n",
    "    # Plot vitamin\n",
    "    plt.subplot(1, 3, 2)\n",
    "    vitamin_info.plot(kind='bar', color='orange')\n",
    "    plt.title('Vitamin')\n",
    "    plt.xticks(rotation=45)\n",
    "\n",
    "    # Plot mineral\n",
    "    plt.subplot(1, 3, 3)\n",
    "    mineral_info.plot(kind='bar', color='green')\n",
    "    plt.title('Mineral')\n",
    "    plt.xticks(rotation=45)\n",
    "\n",
    "    plt.tight_layout()\n",
    "    plt.show()\n",
    "\n",
    "\n",
    "def calculate_bmi_and_needs(weight, height, age, gender, activity_level):\n",
    "    \"\"\"\n",
    "    Menghitung BMI dan kebutuhan nutrisi.\n",
    "    \"\"\"\n",
    "    # Hitung BMI\n",
    "    height_m = height / 100\n",
    "    bmi = weight / (height_m ** 2)\n",
    "\n",
    "    # Tentukan kategori BMI\n",
    "    if bmi < 18.5:\n",
    "        bmi_category = 'Underweight'\n",
    "    elif 18.5 <= bmi < 25:\n",
    "        bmi_category = 'Normal'\n",
    "    elif 25 <= bmi < 30:\n",
    "        bmi_category = 'Overweight'\n",
    "    else:\n",
    "        bmi_category = 'Obese'\n",
    "\n",
    "    # Hitung BMR (Basal Metabolic Rate)\n",
    "    if gender.lower() == 'm':\n",
    "        bmr = 88.362 + (13.397 * weight) + (4.799 * height) - (5.677 * age)\n",
    "    else:\n",
    "        bmr = 447.593 + (9.247 * weight) + (3.098 * height) - (4.330 * age)\n",
    "\n",
    "    # Faktor aktivitas\n",
    "    activity_factors = {\n",
    "        'Tidak banyak bergerak': 1.2,\n",
    "        'Ringan': 1.375,\n",
    "        'Sedang': 1.55,\n",
    "        'Aktif': 1.725,\n",
    "        'Sangat aktif': 1.9\n",
    "    }\n",
    "    daily_calories = bmr * activity_factors[activity_level]\n",
    "\n",
    "    # Hitung kebutuhan nutrisi\n",
    "    protein_needs = weight * 0.8  # 0.8g per kg berat badan\n",
    "    fat_needs = (daily_calories * 0.25) / 9  # 25% dari kalori untuk lemak\n",
    "    carb_needs = (daily_calories * 0.55) / 4  # 55% dari kalori untuk karbohidrat\n",
    "\n",
    "    results = {\n",
    "        'BMI': round(bmi, 2),\n",
    "        'Category': bmi_category,\n",
    "        'Daily Calories': round(daily_calories),\n",
    "        'Protein Needs (g)': round(protein_needs),\n",
    "        'Fat Needs (g)': round(fat_needs),\n",
    "        'Carb Needs (g)': round(carb_needs)\n",
    "    }\n",
    "\n",
    "    return pd.Series(results)\n",
    "\n",
    "\n",
    "def get_food_recommendations(bmi_category, daily_calories, restrictions=None):\n",
    "    \"\"\"\n",
    "    Memberikan rekomendasi makanan berdasarkan BMI dan kalori.\n",
    "    \"\"\"\n",
    "    filtered_df = combined_dataset.copy()\n",
    "\n",
    "    # Filter berdasarkan restriksi makanan\n",
    "    if restrictions:\n",
    "        for restriction in restrictions:\n",
    "            filtered_df = filtered_df[~filtered_df['FoodGroup'].str.contains(restriction, na=False)]\n",
    "\n",
    "    # Skor rekomendasi berdasarkan kategori BMI\n",
    "    if bmi_category == 'Underweight':\n",
    "        filtered_df['score'] = (\n",
    "            filtered_df['Energy_kcal'] / 500 +\n",
    "            filtered_df['Protein_g'] / 20\n",
    "        )\n",
    "    elif bmi_category in ['Overweight', 'Obese']:\n",
    "        filtered_df['score'] = (\n",
    "            filtered_df['Protein_g'] / 20 +\n",
    "            filtered_df['Fiber_g'] / 10 -\n",
    "            filtered_df['Energy_kcal'] / 1000\n",
    "        )\n",
    "    else:\n",
    "        filtered_df['score'] = (\n",
    "            filtered_df['Protein_g'] / 20 +\n",
    "            filtered_df['Fiber_g'] / 10 +\n",
    "            filtered_df['VitC_mg'] / 60 +\n",
    "            filtered_df['Calcium_mg'] / 1000\n",
    "        ) / 4\n",
    "\n",
    "    # Ambil 5 makanan terbaik berdasarkan skor\n",
    "    recommendations = filtered_df.nlargest(5, 'score')\n",
    "    return recommendations[['Descrip', 'FoodGroup', 'Energy_kcal', 'Protein_g', 'Fat_g', 'Carb_g', 'Fiber_g']]"
   ]
  },
  {
   "cell_type": "markdown",
   "metadata": {},
   "source": [
    "Pengujian"
   ]
  },
  {
   "cell_type": "code",
   "execution_count": 32,
   "metadata": {},
   "outputs": [
    {
     "name": "stdout",
     "output_type": "stream",
     "text": [
      "Analisis Nutrisi untuk: Beef, chuck, under blade steak, boneless, separable lean and fat, trimmed to 0\" fat, all grades, cooked, braised\n",
      "\n",
      "Makronutrien:\n"
     ]
    },
    {
     "data": {
      "text/plain": [
       "Protein_g    1.551326\n",
       "Fat_g        0.459729\n",
       "Carb_g      -0.757078\n",
       "Name: 0, dtype: float64"
      ]
     },
     "metadata": {},
     "output_type": "display_data"
    },
    {
     "name": "stdout",
     "output_type": "stream",
     "text": [
      "\n",
      "Vitamin:\n"
     ]
    },
    {
     "data": {
      "text/plain": [
       "VitC_mg   -0.129087\n",
       "VitE_mg   -0.314079\n",
       "Name: 0, dtype: float64"
      ]
     },
     "metadata": {},
     "output_type": "display_data"
    },
    {
     "name": "stdout",
     "output_type": "stream",
     "text": [
      "\n",
      "Mineral:\n"
     ]
    },
    {
     "data": {
      "text/plain": [
       "Calcium_mg   -0.279126\n",
       "Iron_mg       0.001760\n",
       "Name: 0, dtype: float64"
      ]
     },
     "metadata": {},
     "output_type": "display_data"
    },
    {
     "data": {
      "image/png": "[encoded data removed]",
      "text/plain": [
       "<Figure size 1500x500 with 3 Axes>"
      ]
     },
     "metadata": {},
     "output_type": "display_data"
    },
    {
     "name": "stdout",
     "output_type": "stream",
     "text": [
      "User Stats:\n"
     ]
    },
    {
     "data": {
      "text/plain": [
       "BMI                   20.76\n",
       "Category             Normal\n",
       "Daily Calories         1845\n",
       "Protein Needs (g)        48\n",
       "Fat Needs (g)            51\n",
       "Carb Needs (g)          254\n",
       "dtype: object"
      ]
     },
     "metadata": {},
     "output_type": "display_data"
    },
    {
     "name": "stdout",
     "output_type": "stream",
     "text": [
      "Rekomendasi Makanan:\n"
     ]
    },
    {
     "data": {
      "text/html": [
       "<div>\n",
       "<style scoped>\n",
       "    .dataframe tbody tr th:only-of-type {\n",
       "        vertical-align: middle;\n",
       "    }\n",
       "\n",
       "    .dataframe tbody tr th {\n",
       "        vertical-align: top;\n",
       "    }\n",
       "\n",
       "    .dataframe thead th {\n",
       "        text-align: right;\n",
       "    }\n",
       "</style>\n",
       "<table border=\"1\" class=\"dataframe\">\n",
       "  <thead>\n",
       "    <tr style=\"text-align: right;\">\n",
       "      <th></th>\n",
       "      <th>Descrip</th>\n",
       "      <th>FoodGroup</th>\n",
       "      <th>Energy_kcal</th>\n",
       "      <th>Protein_g</th>\n",
       "      <th>Fat_g</th>\n",
       "      <th>Carb_g</th>\n",
       "      <th>Fiber_g</th>\n",
       "    </tr>\n",
       "  </thead>\n",
       "  <tbody>\n",
       "    <tr>\n",
       "      <th>1266</th>\n",
       "      <td>Cereals ready-to-eat, GENERAL MILLS, FIBER ONE...</td>\n",
       "      <td>Breakfast Cereals</td>\n",
       "      <td>-0.145176</td>\n",
       "      <td>-0.452335</td>\n",
       "      <td>-0.493219</td>\n",
       "      <td>2.321037</td>\n",
       "      <td>47.5</td>\n",
       "    </tr>\n",
       "    <tr>\n",
       "      <th>202</th>\n",
       "      <td>Pinon Nuts, roasted (Navajo)</td>\n",
       "      <td>American Indian/Alaska Native Foods</td>\n",
       "      <td>1.902001</td>\n",
       "      <td>-0.385360</td>\n",
       "      <td>1.429565</td>\n",
       "      <td>1.100926</td>\n",
       "      <td>43.4</td>\n",
       "    </tr>\n",
       "    <tr>\n",
       "      <th>1461</th>\n",
       "      <td>Spices, oregano, dried</td>\n",
       "      <td>Spices and Herbs</td>\n",
       "      <td>0.245048</td>\n",
       "      <td>-0.237457</td>\n",
       "      <td>-0.367768</td>\n",
       "      <td>1.750827</td>\n",
       "      <td>42.5</td>\n",
       "    </tr>\n",
       "    <tr>\n",
       "      <th>616</th>\n",
       "      <td>Spices, coriander seed</td>\n",
       "      <td>Spices and Herbs</td>\n",
       "      <td>0.443162</td>\n",
       "      <td>0.076022</td>\n",
       "      <td>0.445857</td>\n",
       "      <td>1.243933</td>\n",
       "      <td>41.9</td>\n",
       "    </tr>\n",
       "    <tr>\n",
       "      <th>605</th>\n",
       "      <td>Spices, marjoram, dried</td>\n",
       "      <td>Spices and Herbs</td>\n",
       "      <td>0.281069</td>\n",
       "      <td>0.102997</td>\n",
       "      <td>-0.201303</td>\n",
       "      <td>1.446618</td>\n",
       "      <td>40.3</td>\n",
       "    </tr>\n",
       "  </tbody>\n",
       "</table>\n",
       "</div>"
      ],
      "text/plain": [
       "                                                Descrip  \\\n",
       "1266  Cereals ready-to-eat, GENERAL MILLS, FIBER ONE...   \n",
       "202                        Pinon Nuts, roasted (Navajo)   \n",
       "1461                             Spices, oregano, dried   \n",
       "616                              Spices, coriander seed   \n",
       "605                             Spices, marjoram, dried   \n",
       "\n",
       "                                FoodGroup  Energy_kcal  Protein_g     Fat_g  \\\n",
       "1266                    Breakfast Cereals    -0.145176  -0.452335 -0.493219   \n",
       "202   American Indian/Alaska Native Foods     1.902001  -0.385360  1.429565   \n",
       "1461                     Spices and Herbs     0.245048  -0.237457 -0.367768   \n",
       "616                      Spices and Herbs     0.443162   0.076022  0.445857   \n",
       "605                      Spices and Herbs     0.281069   0.102997 -0.201303   \n",
       "\n",
       "        Carb_g  Fiber_g  \n",
       "1266  2.321037     47.5  \n",
       "202   1.100926     43.4  \n",
       "1461  1.750827     42.5  \n",
       "616   1.243933     41.9  \n",
       "605   1.446618     40.3  "
      ]
     },
     "metadata": {},
     "output_type": "display_data"
    }
   ],
   "source": [
    "food_item = combined_dataset['Descrip'].iloc[0]  # Ambil makanan pertama sebagai contoh\n",
    "analyze_nutritional_content(food_item)\n",
    "\n",
    "user_stats = calculate_bmi_and_needs(\n",
    "    weight=60,  # kg\n",
    "    height=170,  # cm\n",
    "    age=30,\n",
    "    gender='M',\n",
    "    activity_level='Tidak banyak bergerak'\n",
    ")\n",
    "print(\"User Stats:\")\n",
    "display(user_stats)\n",
    "\n",
    "# Dapatkan rekomendasi makanan\n",
    "recommendations = get_food_recommendations(\n",
    "    bmi_category=user_stats['Category'],\n",
    "    daily_calories=user_stats['Daily Calories'],\n",
    "    restrictions=['Dairy']  # contoh restriksi\n",
    ")\n",
    "print(\"Rekomendasi Makanan:\")\n",
    "display(recommendations)"
   ]
  }
 ],
 "metadata": {
  "kernelspec": {
   "display_name": "Python 3",
   "language": "python",
   "name": "python3"
  },
  "language_info": {
   "codemirror_mode": {
    "name": "ipython",
    "version": 3
   },
   "file_extension": ".py",
   "mimetype": "text/x-python",
   "name": "python",
   "nbconvert_exporter": "python",
   "pygments_lexer": "ipython3",
   "version": "3.10.6"
  }
 },
 "nbformat": 4,
 "nbformat_minor": 2
}
